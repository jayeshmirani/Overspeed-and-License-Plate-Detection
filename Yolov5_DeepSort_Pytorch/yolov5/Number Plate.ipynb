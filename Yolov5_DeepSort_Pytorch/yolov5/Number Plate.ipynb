{
 "cells": [
  {
   "cell_type": "code",
   "execution_count": 24,
   "id": "0cb3c0e8",
   "metadata": {},
   "outputs": [
    {
     "name": "stderr",
     "output_type": "stream",
     "text": [
      "C:\\Users\\Mobile Workstation\\AppData\\Local\\Programs\\Python\\Python38\\lib\\site-packages\\torchvision\\io\\image.py:11: UserWarning: Failed to load image Python extension: Could not find module 'C:\\Users\\Mobile Workstation\\AppData\\Local\\Programs\\Python\\Python38\\Lib\\site-packages\\torchvision\\image.pyd' (or one of its dependencies). Try using the full path with constructor syntax.\n",
      "  warn(f\"Failed to load image Python extension: {e}\")\n",
      "\u001b[34m\u001b[1mdetect: \u001b[0mweights=['./bestLP.pt'], source=str(folder), imgsz=[640, 640], conf_thres=0.3, iou_thres=0.45, max_det=1000, device=, view_img=False, save_txt=False, save_conf=False, save_crop=False, nosave=False, classes=None, agnostic_nms=False, augment=False, visualize=False, update=False, project=runs\\detect, name=exp, exist_ok=False, line_thickness=3, hide_labels=False, hide_conf=False, half=False, dnn=False\n",
      "YOLOv5  2022-1-7 torch 1.10.1+cu102 CUDA:0 (NVIDIA GeForce RTX 2080 Super, 8192MiB)\n",
      "\n",
      "Fusing layers... \n",
      "Model Summary: 290 layers, 20852934 parameters, 0 gradients, 47.9 GFLOPs\n",
      "Traceback (most recent call last):\n",
      "  File \"detect.py\", line 243, in <module>\n",
      "    main(opt)\n",
      "  File \"detect.py\", line 238, in main\n",
      "    run(**vars(opt))\n",
      "  File \"C:\\Users\\Mobile Workstation\\AppData\\Local\\Programs\\Python\\Python38\\lib\\site-packages\\torch\\autograd\\grad_mode.py\", line 28, in decorate_context\n",
      "    return func(*args, **kwargs)\n",
      "  File \"detect.py\", line 95, in run\n",
      "    dataset = LoadImages(source, img_size=imgsz, stride=stride, auto=pt)\n",
      "  File \"C:\\Users\\Mobile Workstation\\Desktop\\deepsort\\Yolov5_DeepSort_Pytorch\\yolov5\\utils\\datasets.py\", line 169, in __init__\n",
      "    raise Exception(f'ERROR: {p} does not exist')\n",
      "Exception: ERROR: str(folder) does not exist\n",
      "C:\\Users\\Mobile Workstation\\AppData\\Local\\Programs\\Python\\Python38\\lib\\site-packages\\torchvision\\io\\image.py:11: UserWarning: Failed to load image Python extension: Could not find module 'C:\\Users\\Mobile Workstation\\AppData\\Local\\Programs\\Python\\Python38\\Lib\\site-packages\\torchvision\\image.pyd' (or one of its dependencies). Try using the full path with constructor syntax.\n",
      "  warn(f\"Failed to load image Python extension: {e}\")\n",
      "\u001b[34m\u001b[1mdetect: \u001b[0mweights=['./bestLP.pt'], source=str(folder), imgsz=[640, 640], conf_thres=0.3, iou_thres=0.45, max_det=1000, device=, view_img=False, save_txt=False, save_conf=False, save_crop=False, nosave=False, classes=None, agnostic_nms=False, augment=False, visualize=False, update=False, project=runs\\detect, name=exp, exist_ok=False, line_thickness=3, hide_labels=False, hide_conf=False, half=False, dnn=False\n",
      "YOLOv5  2022-1-7 torch 1.10.1+cu102 CUDA:0 (NVIDIA GeForce RTX 2080 Super, 8192MiB)\n",
      "\n",
      "Fusing layers... \n",
      "Model Summary: 290 layers, 20852934 parameters, 0 gradients, 47.9 GFLOPs\n",
      "Traceback (most recent call last):\n",
      "  File \"detect.py\", line 243, in <module>\n",
      "    main(opt)\n",
      "  File \"detect.py\", line 238, in main\n",
      "    run(**vars(opt))\n",
      "  File \"C:\\Users\\Mobile Workstation\\AppData\\Local\\Programs\\Python\\Python38\\lib\\site-packages\\torch\\autograd\\grad_mode.py\", line 28, in decorate_context\n",
      "    return func(*args, **kwargs)\n",
      "  File \"detect.py\", line 95, in run\n",
      "    dataset = LoadImages(source, img_size=imgsz, stride=stride, auto=pt)\n",
      "  File \"C:\\Users\\Mobile Workstation\\Desktop\\deepsort\\Yolov5_DeepSort_Pytorch\\yolov5\\utils\\datasets.py\", line 169, in __init__\n",
      "    raise Exception(f'ERROR: {p} does not exist')\n",
      "Exception: ERROR: str(folder) does not exist\n",
      "C:\\Users\\Mobile Workstation\\AppData\\Local\\Programs\\Python\\Python38\\lib\\site-packages\\torchvision\\io\\image.py:11: UserWarning: Failed to load image Python extension: Could not find module 'C:\\Users\\Mobile Workstation\\AppData\\Local\\Programs\\Python\\Python38\\Lib\\site-packages\\torchvision\\image.pyd' (or one of its dependencies). Try using the full path with constructor syntax.\n",
      "  warn(f\"Failed to load image Python extension: {e}\")\n",
      "\u001b[34m\u001b[1mdetect: \u001b[0mweights=['./bestLP.pt'], source=str(folder), imgsz=[640, 640], conf_thres=0.3, iou_thres=0.45, max_det=1000, device=, view_img=False, save_txt=False, save_conf=False, save_crop=False, nosave=False, classes=None, agnostic_nms=False, augment=False, visualize=False, update=False, project=runs\\detect, name=exp, exist_ok=False, line_thickness=3, hide_labels=False, hide_conf=False, half=False, dnn=False\n",
      "YOLOv5  2022-1-7 torch 1.10.1+cu102 CUDA:0 (NVIDIA GeForce RTX 2080 Super, 8192MiB)\n",
      "\n",
      "Fusing layers... \n",
      "Model Summary: 290 layers, 20852934 parameters, 0 gradients, 47.9 GFLOPs\n",
      "Traceback (most recent call last):\n",
      "  File \"detect.py\", line 243, in <module>\n",
      "    main(opt)\n",
      "  File \"detect.py\", line 238, in main\n",
      "    run(**vars(opt))\n",
      "  File \"C:\\Users\\Mobile Workstation\\AppData\\Local\\Programs\\Python\\Python38\\lib\\site-packages\\torch\\autograd\\grad_mode.py\", line 28, in decorate_context\n",
      "    return func(*args, **kwargs)\n",
      "  File \"detect.py\", line 95, in run\n",
      "    dataset = LoadImages(source, img_size=imgsz, stride=stride, auto=pt)\n",
      "  File \"C:\\Users\\Mobile Workstation\\Desktop\\deepsort\\Yolov5_DeepSort_Pytorch\\yolov5\\utils\\datasets.py\", line 169, in __init__\n",
      "    raise Exception(f'ERROR: {p} does not exist')\n",
      "Exception: ERROR: str(folder) does not exist\n"
     ]
    }
   ],
   "source": [
    "import os\n",
    "\n",
    "folder_dir = \"C:/Users/Mobile Workstation/Desktop/deepsort/Yolov5_DeepSort_Pytorch/Detected_vehicles/\"\n",
    "\n",
    "!python3 detect.py --weights ./bestLP.pt --conf 0.30 --source \"C:/Users/Mobile Workstation/Desktop/deepsort/Yolov5_DeepSort_Pytorch/Detected_vehicles/\"\n",
    "\n",
    "\n",
    "        \n",
    "    \n"
   ]
  },
  {
   "cell_type": "code",
   "execution_count": 22,
   "id": "4d14a11f",
   "metadata": {},
   "outputs": [
    {
     "name": "stderr",
     "output_type": "stream",
     "text": [
      "C:\\Users\\Mobile Workstation\\AppData\\Local\\Programs\\Python\\Python38\\lib\\site-packages\\torchvision\\io\\image.py:11: UserWarning: Failed to load image Python extension: Could not find module 'C:\\Users\\Mobile Workstation\\AppData\\Local\\Programs\\Python\\Python38\\Lib\\site-packages\\torchvision\\image.pyd' (or one of its dependencies). Try using the full path with constructor syntax.\n",
      "  warn(f\"Failed to load image Python extension: {e}\")\n",
      "\u001b[34m\u001b[1mdetect: \u001b[0mweights=['./bestLP.pt'], source=C:\\\\Users\\\\Mobile Workstation\\\\Desktop\\\\deepsort\\\\Yolov5_DeepSort_Pytorch\\\\Detected_vehicles\\\\1, imgsz=[640, 640], conf_thres=0.3, iou_thres=0.45, max_det=1000, device=, view_img=False, save_txt=False, save_conf=False, save_crop=False, nosave=False, classes=None, agnostic_nms=False, augment=False, visualize=False, update=False, project=runs\\detect, name=exp, exist_ok=False, line_thickness=3, hide_labels=False, hide_conf=False, half=False, dnn=False\n",
      "YOLOv5  2022-1-7 torch 1.10.1+cu102 CUDA:0 (NVIDIA GeForce RTX 2080 Super, 8192MiB)\n",
      "\n",
      "Fusing layers... \n",
      "Model Summary: 290 layers, 20852934 parameters, 0 gradients, 47.9 GFLOPs\n",
      "image 1/10 C:\\Users\\Mobile Workstation\\Desktop\\deepsort\\Yolov5_DeepSort_Pytorch\\Detected_vehicles\\1\\1_0.jpg: 640x576 1 License Plate, Done. (0.043s)\n",
      "image 2/10 C:\\Users\\Mobile Workstation\\Desktop\\deepsort\\Yolov5_DeepSort_Pytorch\\Detected_vehicles\\1\\1_1.jpg: 640x608 1 License Plate, Done. (0.040s)\n",
      "image 3/10 C:\\Users\\Mobile Workstation\\Desktop\\deepsort\\Yolov5_DeepSort_Pytorch\\Detected_vehicles\\1\\1_2.jpg: 640x608 1 License Plate, Done. (0.039s)\n",
      "image 4/10 C:\\Users\\Mobile Workstation\\Desktop\\deepsort\\Yolov5_DeepSort_Pytorch\\Detected_vehicles\\1\\1_3.jpg: 640x608 1 License Plate, Done. (0.039s)\n",
      "image 5/10 C:\\Users\\Mobile Workstation\\Desktop\\deepsort\\Yolov5_DeepSort_Pytorch\\Detected_vehicles\\1\\1_4.jpg: 640x608 1 License Plate, Done. (0.040s)\n",
      "image 6/10 C:\\Users\\Mobile Workstation\\Desktop\\deepsort\\Yolov5_DeepSort_Pytorch\\Detected_vehicles\\1\\1_5.jpg: 640x608 1 License Plate, Done. (0.012s)\n",
      "image 7/10 C:\\Users\\Mobile Workstation\\Desktop\\deepsort\\Yolov5_DeepSort_Pytorch\\Detected_vehicles\\1\\1_6.jpg: 640x608 1 License Plate, Done. (0.012s)\n",
      "image 8/10 C:\\Users\\Mobile Workstation\\Desktop\\deepsort\\Yolov5_DeepSort_Pytorch\\Detected_vehicles\\1\\1_7.jpg: 640x608 1 License Plate, Done. (0.012s)\n",
      "image 9/10 C:\\Users\\Mobile Workstation\\Desktop\\deepsort\\Yolov5_DeepSort_Pytorch\\Detected_vehicles\\1\\1_8.jpg: 640x608 1 License Plate, Done. (0.012s)\n",
      "image 10/10 C:\\Users\\Mobile Workstation\\Desktop\\deepsort\\Yolov5_DeepSort_Pytorch\\Detected_vehicles\\1\\1_9.jpg: 640x608 1 License Plate, Done. (0.012s)\n",
      "Speed: 1.0ms pre-process, 26.0ms inference, 1.3ms NMS per image at shape (1, 3, 640, 640)\n",
      "Results saved to \u001b[1mruns\\detect\\exp33\u001b[0m\n"
     ]
    }
   ],
   "source": [
    "\n",
    "fold_dir = \"C:\\\\Users\\\\Mobile Workstation\\\\Desktop\\\\deepsort\\\\Yolov5_DeepSort_Pytorch\\\\Detected_vehicles\\\\1\\\\1_3.jpg\"\n",
    "# fold_dir1 = 'C:\\Users\\Mobile Workstation\\Desktop\\deepsort\\Yolov5_DeepSort_Pytorch\\Detected_vehicles\\1\\1_3.jpg'\n",
    "!python3 detect.py --weights ./bestLP.pt --conf 0.30 --source \"C:\\\\Users\\\\Mobile Workstation\\\\Desktop\\\\deepsort\\\\Yolov5_DeepSort_Pytorch\\\\Detected_vehicles\\\\1\""
   ]
  },
  {
   "cell_type": "code",
   "execution_count": null,
   "id": "4f6b1f53",
   "metadata": {},
   "outputs": [],
   "source": []
  }
 ],
 "metadata": {
  "kernelspec": {
   "display_name": "Python 3 (ipykernel)",
   "language": "python",
   "name": "python3"
  },
  "language_info": {
   "codemirror_mode": {
    "name": "ipython",
    "version": 3
   },
   "file_extension": ".py",
   "mimetype": "text/x-python",
   "name": "python",
   "nbconvert_exporter": "python",
   "pygments_lexer": "ipython3",
   "version": "3.8.10"
  }
 },
 "nbformat": 4,
 "nbformat_minor": 5
}
